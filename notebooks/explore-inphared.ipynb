{
 "cells": [
  {
   "cell_type": "markdown",
   "id": "5d6f77b1-2846-43e4-a1e8-e2d47a72e728",
   "metadata": {},
   "source": [
    "## Explore INPHARED"
   ]
  },
  {
   "cell_type": "code",
   "execution_count": null,
   "id": "9ac16920-2674-4590-b5bd-ec1c5d5de363",
   "metadata": {},
   "outputs": [],
   "source": [
    "import pandas as pd\n",
    "import numpy as np\n",
    "from Bio import SeqIO\n",
    "\n",
    "from load_data_inphared import load_dataset, associate_label_from_metadata"
   ]
  },
  {
   "cell_type": "code",
   "execution_count": null,
   "id": "766c35e5-f157-45bd-a39b-e2cbf5dae9cd",
   "metadata": {},
   "outputs": [],
   "source": [
    "full_dataset = load_dataset()\n",
    "full_dataset.head()\n",
    "associate_label_from_metadata(full_dataset, choice=\"Host\",\n",
    "                              label_name=\"Host\", digitize = False)"
   ]
  },
  {
   "cell_type": "code",
   "execution_count": null,
   "id": "d05c42d2-b9bd-464f-b492-a40a9fc7affb",
   "metadata": {},
   "outputs": [],
   "source": [
    "host_df = associate_label_from_metadata(full_dataset, choice=\"Host\",\n",
    "                              label_name=\"Host\", digitize = False)\n",
    "host_df.Host.value_counts()[:15]"
   ]
  },
  {
   "cell_type": "code",
   "execution_count": null,
   "id": "187e0e45-00cc-4e96-9381-349483a836b2",
   "metadata": {},
   "outputs": [],
   "source": [
    "inphared = \"/home/ec2-user/repos/project-delta/data/INPHARED\"\n",
    "metadata = pd.read_csv(inphared+'/14Apr2025_data_excluding_refseq.tsv', sep='\\t')\n",
    "metadata.columns"
   ]
  },
  {
   "cell_type": "code",
   "execution_count": null,
   "id": "1e23015c-4c06-41b4-a4fc-abb8eb0364c9",
   "metadata": {},
   "outputs": [],
   "source": [
    "len(np.unique(metadata[\"Classification\"].values))"
   ]
  },
  {
   "cell_type": "code",
   "execution_count": null,
   "id": "e0aded25-95bf-40b8-9772-758bd3c2e7f3",
   "metadata": {},
   "outputs": [],
   "source": [
    "def Simpson(df) :\n",
    "    x = df.value_counts()\n",
    "    return np.sum(x**2) / (len(df)**2)\n",
    "rows = []\n",
    "\n",
    "col_names = metadata.columns[14:19]\n",
    "\n",
    "for c in col_names:\n",
    "    df = metadata[c]\n",
    "    N = len(np.unique(df))\n",
    "    df = df[df != \"Unclassified\"]\n",
    "    Ntrue = len(np.unique(df))\n",
    "    size = len(df)\n",
    "    simpson_value = Simpson(df)\n",
    "\n",
    "    rows.append([c, N, Ntrue, size, simpson_value])\n",
    "\n",
    "# Convert once at the end\n",
    "explore = pd.DataFrame(rows, columns=[\"Label\", \"N\", \"Ntrue\", \"size\", \"Simpson\"])\n",
    "explore"
   ]
  },
  {
   "cell_type": "code",
   "execution_count": null,
   "id": "86a7c1b4-0559-411d-aa2b-1bf8e9c913cb",
   "metadata": {},
   "outputs": [],
   "source": [
    "sequence_ids = []\n",
    "sequences = []\n",
    "for record in SeqIO.parse(inphared+'/14Apr2025_genomes_excluding_refseq.fa', \"fasta\"):\n",
    "    sequence_ids.append(record.id)\n",
    "    sequences.append(str(record.seq))\n",
    "genomes = pd.DataFrame({\n",
    "    \"Sequence ID\": sequence_ids,\n",
    "    \"Sequence\": sequences\n",
    "})"
   ]
  },
  {
   "cell_type": "code",
   "execution_count": null,
   "id": "34b4b8d8-c166-4961-96cb-c6d6cc2e93ac",
   "metadata": {},
   "outputs": [],
   "source": [
    "import matplotlib.pyplot as plt\n",
    "\n",
    "plt.figure()\n",
    "_ = plt.hist(genomes[\"Sequence\"].apply(lambda x: len(x)))"
   ]
  },
  {
   "cell_type": "code",
   "execution_count": null,
   "id": "d18281e1-11d1-41ab-a9e8-268fc230afa2",
   "metadata": {},
   "outputs": [],
   "source": [
    "associate_label_from_metadata(genomes)"
   ]
  },
  {
   "cell_type": "code",
   "execution_count": null,
   "id": "92606ce5-709d-4e40-bd5c-17453e99d78e",
   "metadata": {
    "scrolled": true
   },
   "outputs": [],
   "source": [
    "from get_data import load_dataset\n",
    "\n",
    "df = load_dataset() # proteins by default"
   ]
  },
  {
   "cell_type": "code",
   "execution_count": null,
   "id": "63059eb2-ed65-4e9c-9224-537111885e54",
   "metadata": {},
   "outputs": [],
   "source": [
    "import sys\n",
    "sys.path.append('/home/ec2-user/SageMaker/project-delta')\n",
    "\n",
    "from ttd.datasets import load_dataset_eskape\n",
    "\n",
    "df = load_dataset_eskape()"
   ]
  },
  {
   "cell_type": "code",
   "execution_count": null,
   "id": "598b750d-021a-4545-8525-02dabe161e5c",
   "metadata": {},
   "outputs": [],
   "source": [
    "np.unique(df.Host)"
   ]
  },
  {
   "cell_type": "code",
   "execution_count": null,
   "id": "1f7cd6a8-3b02-46b5-9eea-f77c70dc56c4",
   "metadata": {},
   "outputs": [],
   "source": [
    "import pandas as pd\n",
    "import numpy as np\n",
    "from Bio import SeqIO\n",
    "from sklearn.model_selection import train_test_split\n",
    "\n",
    "import os\n",
    "from pathlib import Path\n",
    "\n",
    "eskape = '/home/ec2-user/repos/project-delta/data/ESKAPE'\n",
    "    \n",
    "records_data = []\n",
    "\n",
    "for ffn_path in Path(eskape).glob(\"*.ffn\"):\n",
    "    for record in SeqIO.parse(ffn_path, \"fasta\"):\n",
    "\n",
    "        bad_annotations = [f\"{record.id} hypothetical protein\",\n",
    "                          f\"{record.id} unannotated protein\",\n",
    "                          f\"{record.id} unknown function\"]\n",
    "        \n",
    "        # Skip hypothetical proteins\n",
    "        if (record.description in bad_annotations):\n",
    "            continue\n",
    "        \n",
    "        # Skip if not a multiple of 3\n",
    "        if len(record.seq) % 3 != 0:\n",
    "            continue\n",
    "\n",
    "        # Translate nucleotide to amino acid\n",
    "        try:\n",
    "            aa_seq = record.seq.translate(to_stop=True)\n",
    "        except Exception as e:\n",
    "            print(f\"Translation error in {record.id}: {e}\")\n",
    "            continue\n",
    "\n",
    "        records_data.append({\n",
    "            \"Sequence ID\": record.id,\n",
    "            \"Label\": record.description,\n",
    "            \"Sequence\": str(aa_seq)\n",
    "        })\n",
    "\n",
    "# Convert to DataFrame\n",
    "df = pd.DataFrame(records_data)\n",
    "df[\"Label\"] = df.Label.apply(lambda x : (\" \").join(x.split(\" \")[1:]))"
   ]
  },
  {
   "cell_type": "code",
   "execution_count": null,
   "id": "aa6a4fab-bae3-4fa1-8259-5b8dd61c0a4d",
   "metadata": {
    "scrolled": true
   },
   "outputs": [],
   "source": [
    "# explore most abundanta portein functional annotations\n",
    "counts = df.Label.value_counts()\n",
    "counts = counts[counts > 0.001 * np.sum(counts)]\n",
    "for i in counts.index.values:\n",
    "    print(f\"\\\"{i}\\\"\")\n",
    "\n",
    "# Plot bar plot\n",
    "\"\"\"\n",
    "counts[:30].plot(kind='bar')\n",
    "plt.xlabel('Category')\n",
    "plt.ylabel('Count')\n",
    "plt.title('Value Counts')\n",
    "plt.show()\n",
    "\"\"\"\n",
    "pass"
   ]
  }
 ],
 "metadata": {
  "kernelspec": {
   "display_name": "conda_pytorch_p310",
   "language": "python",
   "name": "conda_pytorch_p310"
  },
  "language_info": {
   "codemirror_mode": {
    "name": "ipython",
    "version": 3
   },
   "file_extension": ".py",
   "mimetype": "text/x-python",
   "name": "python",
   "nbconvert_exporter": "python",
   "pygments_lexer": "ipython3",
   "version": "3.10.14"
  }
 },
 "nbformat": 4,
 "nbformat_minor": 5
}
