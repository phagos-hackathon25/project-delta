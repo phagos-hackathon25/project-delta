{
 "cells": [
  {
   "cell_type": "markdown",
   "id": "ef1883b2-214f-4172-a141-689abf013cd5",
   "metadata": {},
   "source": [
    "# Explore PHL-Klebsiella \n",
    "Extract protein from phage Genome"
   ]
  },
  {
   "cell_type": "code",
   "execution_count": 47,
   "id": "4537098c-2528-41e6-ae47-c410a8733f18",
   "metadata": {},
   "outputs": [
    {
     "name": "stdout",
     "output_type": "stream",
     "text": [
      "Device: cuda\n"
     ]
    },
    {
     "name": "stderr",
     "output_type": "stream",
     "text": [
      "100%|██████████| 8393/8393 [00:02<00:00, 3348.52it/s]\n"
     ]
    }
   ],
   "source": [
    "# encode them! \n",
    "\n",
    "import sys\n",
    "import pandas as pd\n",
    "import numpy as np\n",
    "import torch\n",
    "from tqdm import tqdm\n",
    "sys.path.append('/home/ec2-user/SageMaker/project-delta')\n",
    "\n",
    "from esm.models.esmc import ESMC\n",
    "from esm.sdk.api import ESMProtein, LogitsConfig\n",
    "from ttd.models import BaseModel, ESMEncoder, basic_classifier\n",
    "from ttd.datasets import load_dataset_boeckaerts\n",
    "\n",
    "import matplotlib.pyplot as plt\n",
    "from sklearn.manifold import TSNE\n",
    "\n",
    "# load base model\n",
    "torch.cuda.set_device(3)\n",
    "device = torch.device(\"cuda\" if torch.cuda.is_available() else \"cpu\")\n",
    "print(\"Device:\", device)\n",
    "\n",
    "client = ESMC.from_pretrained(\"esmc_300m\").to(\"cuda\") # or \"cpu\"\n",
    "encoder = ESMEncoder(client, output=\"sequence\")\n",
    "base_model = BaseModel(encoder, basic_classifier).to(device)\n",
    "\n",
    "boeckaerts_seqs = load_dataset_boeckaerts()\n",
    "X_boeckaerts = []\n",
    "for i in tqdm(range(len(boeckaerts_seqs))):\n",
    "    protein = ESMProtein(sequence = boeckaerts_seqs.Sequence[i])\n",
    "    X_boeckaerts.append(base_model.encode_with_cache(protein).detach().cpu().tolist()[0])\n",
    "\n",
    "X_boeckaerts = np.asarray(X_boeckaerts)"
   ]
  }
 ],
 "metadata": {
  "kernelspec": {
   "display_name": "conda_pytorch_p310",
   "language": "python",
   "name": "conda_pytorch_p310"
  },
  "language_info": {
   "codemirror_mode": {
    "name": "ipython",
    "version": 3
   },
   "file_extension": ".py",
   "mimetype": "text/x-python",
   "name": "python",
   "nbconvert_exporter": "python",
   "pygments_lexer": "ipython3",
   "version": "3.10.14"
  }
 },
 "nbformat": 4,
 "nbformat_minor": 5
}
