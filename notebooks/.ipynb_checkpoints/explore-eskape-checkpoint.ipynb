{
 "cells": [
  {
   "cell_type": "markdown",
   "id": "57e833db-24e5-483e-b0e4-0ce7ca41bc98",
   "metadata": {},
   "source": [
    "# Open ESKAPE Data"
   ]
  },
  {
   "cell_type": "code",
   "execution_count": null,
   "id": "1f7cd6a8-3b02-46b5-9eea-f77c70dc56c4",
   "metadata": {},
   "outputs": [],
   "source": [
    "import pandas as pd\n",
    "import numpy as np\n",
    "from Bio import SeqIO\n",
    "from sklearn.model_selection import train_test_split\n",
    "\n",
    "import os\n",
    "from pathlib import Path\n",
    "\n",
    "eskape = '/home/ec2-user/repos/project-delta/data/ESKAPE'\n",
    "    \n",
    "records_data = []\n",
    "\n",
    "for ffn_path in Path(eskape).glob(\"*.ffn\"):\n",
    "    for record in SeqIO.parse(ffn_path, \"fasta\"):\n",
    "\n",
    "        bad_annotations = [f\"{record.id} hypothetical protein\",\n",
    "                          f\"{record.id} unannotated protein\",\n",
    "                          f\"{record.id} unknown function\"]\n",
    "        \n",
    "        # Skip hypothetical proteins\n",
    "        if (record.description in bad_annotations):\n",
    "            continue\n",
    "        \n",
    "        # Skip if not a multiple of 3\n",
    "        if len(record.seq) % 3 != 0:\n",
    "            continue\n",
    "\n",
    "        # Translate nucleotide to amino acid\n",
    "        try:\n",
    "            aa_seq = record.seq.translate(to_stop=True)\n",
    "        except Exception as e:\n",
    "            print(f\"Translation error in {record.id}: {e}\")\n",
    "            continue\n",
    "\n",
    "        records_data.append({\n",
    "            \"Sequence ID\": record.id,\n",
    "            \"Label\": record.description,\n",
    "            \"Sequence\": str(aa_seq)\n",
    "        })\n",
    "\n",
    "# Convert to DataFrame\n",
    "df = pd.DataFrame(records_data)\n",
    "df[\"Label\"] = df.Label.apply(lambda x : (\" \").join(x.split(\" \")[1:]))"
   ]
  },
  {
   "cell_type": "code",
   "execution_count": null,
   "id": "aa6a4fab-bae3-4fa1-8259-5b8dd61c0a4d",
   "metadata": {
    "scrolled": true
   },
   "outputs": [],
   "source": [
    "# explore most abundant protein functional annotations\n",
    "counts = df.Label.value_counts()\n",
    "counts = counts[counts > 0.001 * np.sum(counts)]\n",
    "\n",
    "# bar plot\n",
    "counts[:30].plot(kind='bar')\n",
    "plt.xlabel('Category')\n",
    "plt.ylabel('Count')\n",
    "plt.title('Value Counts')\n",
    "plt.show()\n",
    "\n",
    "# lost for prompt\n",
    "for i in counts.index.values:\n",
    "    print(f\"\\\"{i}\\\"\")"
   ]
  }
 ],
 "metadata": {
  "kernelspec": {
   "display_name": "conda_pytorch_p310",
   "language": "python",
   "name": "conda_pytorch_p310"
  },
  "language_info": {
   "codemirror_mode": {
    "name": "ipython",
    "version": 3
   },
   "file_extension": ".py",
   "mimetype": "text/x-python",
   "name": "python",
   "nbconvert_exporter": "python",
   "pygments_lexer": "ipython3",
   "version": "3.10.14"
  }
 },
 "nbformat": 4,
 "nbformat_minor": 5
}
